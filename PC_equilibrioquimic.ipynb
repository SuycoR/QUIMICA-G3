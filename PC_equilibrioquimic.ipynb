{
  "nbformat": 4,
  "nbformat_minor": 0,
  "metadata": {
    "colab": {
      "provenance": [],
      "include_colab_link": true
    },
    "kernelspec": {
      "name": "python3",
      "display_name": "Python 3"
    },
    "language_info": {
      "name": "python"
    }
  },
  "cells": [
    {
      "cell_type": "markdown",
      "metadata": {
        "id": "view-in-github",
        "colab_type": "text"
      },
      "source": [
        "<a href=\"https://colab.research.google.com/github/SuycoR/QUIMICA-G3/blob/main/PC_equilibrioquimic.ipynb\" target=\"_parent\"><img src=\"https://colab.research.google.com/assets/colab-badge.svg\" alt=\"Open In Colab\"/></a>"
      ]
    },
    {
      "cell_type": "markdown",
      "source": [
        "#Le Chatelier"
      ],
      "metadata": {
        "id": "aCFVXoKdo5m3"
      }
    },
    {
      "cell_type": "markdown",
      "source": [
        "## Escribir un programa que imprima la dirección de la reacción neta luego de alterar el equilibrio. Asumir que todas las especies son gaseosas."
      ],
      "metadata": {
        "id": "esVc8MpYor85"
      }
    },
    {
      "cell_type": "code",
      "source": [
        "print(\"Se tiene la siguiente reacción química: \")\n",
        "print(\" A(g) + B(g) -> C(g) + D(g) \")\n",
        "\n",
        "# Caso 1, para la concentración\n",
        "def case_1():\n",
        "  print(\"A = 1; B = 2; C = 3; D = 4 \")\n",
        "  elem = int(input(\"¿Cuál elemento aumentará su concentración?: \"))\n",
        "  reactantes = [1,2]\n",
        "  productos = [3,4]\n",
        "  if elem in reactantes:\n",
        "    print(\"La reacción va hacia la derecha, al lado de los productos\")\n",
        "  elif elem in productos:\n",
        "    print(\"La reacción va hacia la izquierda, al lado de los reactantes\")\n",
        "  else:\n",
        "    print(\"Introduciste un elemento no válido\")\n",
        "\n",
        "# Caso 2, para el volumen\n",
        "def case_2():\n",
        "  moles_reactivos = float(input(\"Ingrese la cantidad de moles de reactantes: \"))\n",
        "  moles_productos = float(input(\"Ingrese la cantidad de moles de productos: \"))\n",
        "  cambio_presion = input(\"¿Desea aumentar o disminuir el volumen? \").lower()\n",
        "  if cambio_presion.lower() == 'aumentar':\n",
        "        if moles_reactivos < moles_productos:\n",
        "            print(\"Aumentar el volumen. La reacción se desplazará hacia el lado con más moles de gas: hacia la derecha, al lado de los productos\")\n",
        "        elif moles_reactivos > moles_productos:\n",
        "            print(\"Aumentar el volumen. La reacción se desplazará hacia el lado con más moles de gas, hacia la izquierda, al lado de los reactivos.\")\n",
        "\n",
        "  elif cambio_presion.lower() == 'disminuir':\n",
        "        if moles_reactivos < moles_productos:\n",
        "            print(\"Disminuir el volumen. La reacción se desplazará hacia el lado con menos moles de gas, hacia la izquierda, al lado de los reactivos.\")\n",
        "        elif moles_reactivos > moles_productos:\n",
        "            print(\"Disminuir el volumen. La reacción se desplazará hacia el lado con menos moles de gas, hacia la derecha, al lado de los productos.\")\n",
        "  else:\n",
        "        print(\"Opción de cambio de volumen no válido.\")\n",
        "\n",
        "# Caso 3, para la temperatura\n",
        "def case_3():\n",
        "   cambio_temperatura = input('¿De qué tipo es su reacción? (endo / exo): ')\n",
        "   chatelier2(cambio_temperatura)\n",
        "\n",
        "def chatelier2(cambio_temperatura):\n",
        "    if cambio_temperatura.lower() == 'endo':\n",
        "        temperatura = input(\"¿Desea aumentar ↑ o reducir ↓ su temperatura? (Aumentar / Reducir)\")\n",
        "        if temperatura.lower() == 'aumentar':\n",
        "            print(\"Si la temperatura aumenta en una reacción endotérmica, la reacción se dirige hacia la derecha (→)\")\n",
        "        elif temperatura.lower() == 'reducir':\n",
        "            print(\"Si la temperatura disminuye en una reacción endotérmica, la reacción se dirige hacia la izquierda (←)\")\n",
        "        else:\n",
        "            print(\"Hubo un error\")\n",
        "    elif cambio_temperatura.lower() == 'exo':\n",
        "        temperatura = input(\"¿Desea aumentar ↑ o reducir ↓ su temperatura? (Aumentar / Reducir)\")\n",
        "        if temperatura.lower() == 'aumentar':\n",
        "            print(\"Si la temperatura aumenta en una reacción exotérmica, la reacción se dirige hacia la izquierda (←)\")\n",
        "        elif temperatura.lower() == 'reducir':\n",
        "            print(\"Si la temperatura disminuye en una reacción exotérmica, la reacción se dirige hacia la derecha (→)\")\n",
        "        else:\n",
        "            print(\"Hubo un error\")\n",
        "    else:\n",
        "        print(\"Opción inválida.\")\n",
        "\n",
        "# Caso 4, para la presión\n",
        "def case_4():\n",
        "  moles_reactivos = float(input(\"Ingrese la cantidad de moles de reactantes: \"))\n",
        "  moles_productos = float(input(\"Ingrese la cantidad de moles de productos: \"))\n",
        "  cambio_presion = input(\"¿Desea aumentar o disminuir la presión? \").lower()\n",
        "  if cambio_presion.lower() == 'aumentar':\n",
        "        if moles_reactivos < moles_productos:\n",
        "            print(\"La reacción va hacia la izquierda, al lado de los reactivos\")\n",
        "        elif moles_reactivos > moles_productos:\n",
        "            print(\"La reacción va hacia la derecha, al lado de los productos\")\n",
        "\n",
        "  elif cambio_presion.lower() == 'disminuir':\n",
        "        if moles_reactivos < moles_productos:\n",
        "            print(\"La reacción va hacia la derecha, al lado de los productos\")\n",
        "        elif moles_reactivos > moles_productos:\n",
        "            print(\"La reacción va hacia la izquierda, al lado de los reactivos\")\n",
        "\n",
        "  else:\n",
        "        print(\"Opción de cambio de presión no válido.\")\n",
        "\n",
        "# Caso 5, para los catalizadores\n",
        "def case_5():\n",
        "  print(\"Los catalizadores influyen en la rapidez de la reacción química para alcanzar el equilibrio, pero no modifica su composición, por lo tanto,\\nel valor de la constante de equilibrio se mantiene.\")\n",
        "\n",
        "# Diccionario para ejecutar las funciones dependiendo del usuario\n",
        "switch = {\n",
        "    '1': case_1,\n",
        "    '2': case_2,\n",
        "    '3': case_3,\n",
        "    '4': case_4,\n",
        "    '5': case_5,\n",
        "}\n",
        "case = input(\"Concentración(1), Volumen(2), Temperatura(3), Presión(4), Catalizador(5): \")\n",
        "if case in switch:\n",
        "    switch[case]()  # Llama a la función correspondiente\n",
        "else:\n",
        "    print(\"Opción no válida\")\n"
      ],
      "metadata": {
        "id": "4N20GQ9uQGZd",
        "colab": {
          "base_uri": "https://localhost:8080/"
        },
        "outputId": "8c9a33c4-bbea-4ecf-84dc-84bde1e730a4"
      },
      "execution_count": null,
      "outputs": [
        {
          "output_type": "stream",
          "name": "stdout",
          "text": [
            "Se tiene la siguiente reacción química: \n",
            " A(g) + B(g) -> C(g) + D(g) \n",
            "Concentración(1), Volumen(2), Temperatura(3), Presión(4), Catalizador(5): 3\n",
            "¿De qué tipo es su reacción? (endo / exo): exo\n",
            "¿Desea aumentar ↑ o reducir ↓ su temperatura? (Aumentar / Reducir)reducir\n",
            "Si la temperatura disminuye en una reacción exotérmica, la reacción se dirige hacia la derecha (→)\n"
          ]
        }
      ]
    }
  ]
}