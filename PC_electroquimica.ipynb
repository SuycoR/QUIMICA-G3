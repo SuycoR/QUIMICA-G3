{
  "nbformat": 4,
  "nbformat_minor": 0,
  "metadata": {
    "colab": {
      "provenance": [],
      "include_colab_link": true
    },
    "kernelspec": {
      "name": "python3",
      "display_name": "Python 3"
    },
    "language_info": {
      "name": "python"
    }
  },
  "cells": [
    {
      "cell_type": "markdown",
      "metadata": {
        "id": "view-in-github",
        "colab_type": "text"
      },
      "source": [
        "<a href=\"https://colab.research.google.com/github/SuycoR/QUIMICA-G3/blob/main/PC_electroquimica.ipynb\" target=\"_parent\"><img src=\"https://colab.research.google.com/assets/colab-badge.svg\" alt=\"Open In Colab\"/></a>"
      ]
    },
    {
      "cell_type": "markdown",
      "source": [
        "## **Integrantes**\n",
        "- Mantari Flores Fabrizio\n",
        "- Melendez Cava André\n",
        "- Salcedo Alfaro Nick\n",
        "- Suyco Rivera Pedro"
      ],
      "metadata": {
        "id": "GoXjh-h8vCxS"
      }
    },
    {
      "cell_type": "code",
      "source": [
        "import math"
      ],
      "metadata": {
        "id": "vMHWobcQdDva"
      },
      "execution_count": null,
      "outputs": []
    },
    {
      "cell_type": "code",
      "source": [
        "def femEst(CEL,n,F,CEQ,R,T):\n",
        " if CEL != 0:\n",
        "  fem = (-1)*CEL/(n*F)\n",
        " elif CEQ != 0:\n",
        "  fem = math.log(CEQ,2.71828)*R*T/(n*F)\n",
        " else:\n",
        "  print(\"Datos insuficientes\")\n",
        "\n",
        " print(\"La fuerza electromotriz es:\",fem,\"V\")\n",
        " if fem>0:\n",
        "    print(\"Además, se favorece la formación de productos\")\n",
        " elif fem==0:\n",
        "    print(\"Además, se favorece la creación de productos y reactivos\")\n",
        " elif fem<0:\n",
        "    print(\"Además, se favorece la creacion de reactivos\")"
      ],
      "metadata": {
        "id": "hTntrK-JeKSj"
      },
      "execution_count": null,
      "outputs": []
    },
    {
      "cell_type": "code",
      "source": [
        "def cEL(CEL,T,CEQ,n,F,FEM):\n",
        "  if CEQ != 0:\n",
        "    cambio_energiaL = (-1)*8.314*T*math.log(CEQ,2.71828)\n",
        "  elif FEM != 0:\n",
        "    cambio_energiaL = (-1)*n*F*FEM\n",
        "  print(\"El cambio de energía libre es\",cambio_energiaL,\"J/mol\")\n",
        "\n",
        "  if cambio_energiaL>0:\n",
        "    print(\"Además, se favorece la formación de reactivos\")\n",
        "  elif cambio_energiaL==0:\n",
        "    print(\"Además, se favorece la creación de productos y reactivos\")\n",
        "  elif cambio_energiaL<0:\n",
        "    print(\"Además, se favorece la creacion de productos\")"
      ],
      "metadata": {
        "id": "csEbfioihCg7"
      },
      "execution_count": null,
      "outputs": []
    },
    {
      "cell_type": "code",
      "source": [
        "def consEQ(T,G,F,n,R,E):\n",
        "  K = None\n",
        "  if G != 0 :\n",
        "    K = None\n",
        "    K = math.e **(G/(-R*T) )\n",
        "  elif E != 0:\n",
        "    K = None\n",
        "    K = math.e ** ((E*n*F)/(R*T))\n",
        "  else:\n",
        "    print(\"Datos insuficientes\")\n",
        "\n",
        "  print (\"la constante de equilibrio sera:\",K)\n",
        "  if K>1:\n",
        "    print(\"Además, se favorece la formación de productos\")\n",
        "  elif K==1:\n",
        "    print(\"Además, se favorece la creación de productos y reactivos\")\n",
        "  elif K<1:\n",
        "    print(\"Además, se favorece la creacion de reactivos\")\n"
      ],
      "metadata": {
        "id": "A6tqLabdozU0"
      },
      "execution_count": null,
      "outputs": []
    },
    {
      "cell_type": "code",
      "source": [
        "def inicio():\n",
        "  print(\"Bienvenido a la calculadora de termodinámica REDOX, por favor ingrese los datos que tenga (si no tiene uno, digite '0')\")\n",
        "  fem_estandar = float(input(\"Digite la fem estandar: (En voltios) \"))\n",
        "  constanteEq = float(input(\"Digite la constante de equilibrio: \"))\n",
        "  temperatura = float(input(\"Digite la temperatura (en grados Kelvin): \"))\n",
        "  numero_moles = float(input(\"Digite el número de moles: \"))\n",
        "  cambio_energiaL = float(input(\"Digite el cambio de energía libre: (En J/mol)\"))\n",
        "  constanteR = 8.314\n",
        "  constanteF = 96500\n",
        "  print(\"Fem estándar (1) - Constante de equilibrio (2) - Cambio de energía libre (3)\")\n",
        "  calcular = int(input(\"¿Cuál dato quiere hallar?: \"))\n",
        "  if calcular == 1:\n",
        "    femEst(cambio_energiaL,numero_moles,constanteF,constanteEq,constanteR,temperatura)\n",
        "  elif calcular == 2:\n",
        "    consEQ(temperatura,cambio_energiaL,constanteF,numero_moles,constanteR,fem_estandar)\n",
        "  elif calcular == 3:\n",
        "    cEL(cambio_energiaL,temperatura,cambio_energiaL,numero_moles,constanteF,fem_estandar)"
      ],
      "metadata": {
        "id": "kakw5M4ChKgG"
      },
      "execution_count": null,
      "outputs": []
    },
    {
      "cell_type": "code",
      "source": [
        "inicio()"
      ],
      "metadata": {
        "colab": {
          "base_uri": "https://localhost:8080/"
        },
        "id": "uq_xFTi9ncC3",
        "outputId": "55935fa8-7f0a-476a-a6fe-7ff51e45981d"
      },
      "execution_count": null,
      "outputs": [
        {
          "output_type": "stream",
          "name": "stdout",
          "text": [
            "Bienvenido a la calculadora de termodinámica REDOX, por favor ingrese los datos que tenga (si no tiene uno, digite '0')\n",
            "Digite la fem estandar: -4.37\n",
            "Digite la constante de equilibrio: 0\n",
            "Digite la temperatura (en grados Kelvin): 298\n",
            "Digite el número de moles: 6\n",
            "Digite el cambio de energía libre: 0\n",
            "Fem estándar (1) - Constante de equilibrio (2) - Cambio de energía libre (3)\n",
            "¿Cuál dato quiere hallar?: 3\n",
            "El cambio de energía libre es 2530230.0 J/mol\n",
            "Además, se favorece la formación de reactivos\n"
          ]
        }
      ]
    }
  ]
}