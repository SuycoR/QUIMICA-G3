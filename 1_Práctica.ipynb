{
  "nbformat": 4,
  "nbformat_minor": 0,
  "metadata": {
    "colab": {
      "provenance": [],
      "include_colab_link": true
    },
    "kernelspec": {
      "name": "python3",
      "display_name": "Python 3"
    },
    "language_info": {
      "name": "python"
    },
    "widgets": {
      "application/vnd.jupyter.widget-state+json": {
        "c7f9a6aae1d24a6bb09140f18e3385a6": {
          "model_module": "faerun-notebook",
          "model_name": "SmilesDrawerModel",
          "model_module_version": "^0.1.5",
          "state": {
            "_dom_classes": [],
            "_model_module": "faerun-notebook",
            "_model_module_version": "^0.1.5",
            "_model_name": "SmilesDrawerModel",
            "_view_count": null,
            "_view_module": "faerun-notebook",
            "_view_module_version": "^0.1.5",
            "_view_name": "SmilesDrawerView",
            "background": "#1e1e1e",
            "border": true,
            "layout": "IPY_MODEL_d5a8041afac94213a4adca6c50e23b9c",
            "options": {
              "scale": 1.25
            },
            "output": "svg",
            "theme": "dark",
            "value": [
              [
                "Rxn",
                "C(C1C(C(C(C(O1)O)O)O)O)O.O=O>>C(=O)=O.O"
              ]
            ]
          }
        },
        "d5a8041afac94213a4adca6c50e23b9c": {
          "model_module": "@jupyter-widgets/base",
          "model_name": "LayoutModel",
          "model_module_version": "1.2.0",
          "state": {
            "_model_module": "@jupyter-widgets/base",
            "_model_module_version": "1.2.0",
            "_model_name": "LayoutModel",
            "_view_count": null,
            "_view_module": "@jupyter-widgets/base",
            "_view_module_version": "1.2.0",
            "_view_name": "LayoutView",
            "align_content": null,
            "align_items": null,
            "align_self": null,
            "border": null,
            "bottom": null,
            "display": null,
            "flex": null,
            "flex_flow": null,
            "grid_area": null,
            "grid_auto_columns": null,
            "grid_auto_flow": null,
            "grid_auto_rows": null,
            "grid_column": null,
            "grid_gap": null,
            "grid_row": null,
            "grid_template_areas": null,
            "grid_template_columns": null,
            "grid_template_rows": null,
            "height": null,
            "justify_content": null,
            "justify_items": null,
            "left": null,
            "margin": null,
            "max_height": null,
            "max_width": null,
            "min_height": null,
            "min_width": null,
            "object_fit": null,
            "object_position": null,
            "order": null,
            "overflow": null,
            "overflow_x": null,
            "overflow_y": null,
            "padding": null,
            "right": null,
            "top": null,
            "visibility": null,
            "width": null
          }
        }
      }
    }
  },
  "cells": [
    {
      "cell_type": "markdown",
      "metadata": {
        "id": "view-in-github",
        "colab_type": "text"
      },
      "source": [
        "<a href=\"https://colab.research.google.com/github/SuycoR/QUIMICA-G3/blob/main/1_Pr%C3%A1ctica.ipynb\" target=\"_parent\"><img src=\"https://colab.research.google.com/assets/colab-badge.svg\" alt=\"Open In Colab\"/></a>"
      ]
    },
    {
      "cell_type": "markdown",
      "source": [
        "# Pregunta 1\n",
        "----"
      ],
      "metadata": {
        "id": "5VdIPQgcw0QH"
      }
    },
    {
      "cell_type": "code",
      "execution_count": null,
      "metadata": {
        "colab": {
          "base_uri": "https://localhost:8080/"
        },
        "id": "b6PLfss94Rgk",
        "outputId": "5eac2080-31bd-42fa-9261-1b1decb43a5e"
      },
      "outputs": [
        {
          "output_type": "stream",
          "name": "stdout",
          "text": [
            "La version que se esta utilizando es:  ['Python 3.10.12']\n",
            "\n",
            "\n",
            "Las palabras reservadas son: \n",
            "\n",
            "Here is a list of the Python keywords.  Enter any keyword to get more help.\n",
            "\n",
            "False               class               from                or\n",
            "None                continue            global              pass\n",
            "True                def                 if                  raise\n",
            "and                 del                 import              return\n",
            "as                  elif                in                  try\n",
            "assert              else                is                  while\n",
            "async               except              lambda              with\n",
            "await               finally             nonlocal            yield\n",
            "break               for                 not                 \n",
            "\n"
          ]
        }
      ],
      "source": [
        "#1.1\n",
        "# Imprime la versión de python que usas y las palabras reservadas de python para esa versión.\n",
        "version = !python --version\n",
        "print(\"La version que se esta utilizando es: \", version)\n",
        "\n",
        "print(\"\\n\")\n",
        "print(\"Las palabras reservadas son: \")\n",
        "help(\"keywords\")\n"
      ]
    },
    {
      "cell_type": "code",
      "source": [
        "#1.2\n",
        "# Crea una matriz de 3x3 e imprime la suma de los elementos en su diagonal (traza).\n",
        "A=[[31,85,14],[87,65,3],[13,34,64]]\n",
        "suma_diagonal=0\n",
        "for i in range(len(A)):\n",
        "  suma_diagonal= suma_diagonal + A[i][i]\n",
        "\n",
        "for fila in A:\n",
        "  print(fila)\n",
        "print(\"La suma es: \", suma_diagonal)\n",
        "\n"
      ],
      "metadata": {
        "colab": {
          "base_uri": "https://localhost:8080/"
        },
        "id": "hT7e1mFF87K9",
        "outputId": "f389e4ff-37be-4b25-fccc-f48d73d7baea"
      },
      "execution_count": null,
      "outputs": [
        {
          "output_type": "stream",
          "name": "stdout",
          "text": [
            "[31, 85, 14]\n",
            "[87, 65, 3]\n",
            "[13, 34, 64]\n",
            "La suma es:  160\n"
          ]
        }
      ]
    },
    {
      "cell_type": "code",
      "source": [
        "#1.3\n",
        "# Guarda como variable la masa atómica de los elementos C, H y O, e imprime la masa molecular del etanol.\n",
        "masa_hidrogeno = 1.00784\n",
        "masa_oxigeno = 15.999    # menor cantidad de decimales\n",
        "masa_carbono = 12.011\n",
        "masa_etanol = masa_carbono*2+masa_oxigeno+masa_hidrogeno*6\n",
        "print(\"La masa molecular del etanol es: \",round(masa_etanol,3)) #Redondeando el Etanol a 3 decimales\n"
      ],
      "metadata": {
        "colab": {
          "base_uri": "https://localhost:8080/"
        },
        "id": "qVaaoBdM-Hyt",
        "outputId": "ea7da0c0-8d72-412d-983d-16b0393eecf5"
      },
      "execution_count": null,
      "outputs": [
        {
          "output_type": "stream",
          "name": "stdout",
          "text": [
            "La masa molecular del etanol es:  46.068\n"
          ]
        }
      ]
    },
    {
      "cell_type": "code",
      "source": [
        "#1.4\n",
        "# Busca la temperatura de fusión en Celsius de 5 metales y guárdalos en una lista. Imprime las temperaturas en Kelvin\n",
        "metales = [\"plata\",\"oro\",\"estano\",\"hierro\",\"vanadio\"]\n",
        "temp_met_cel = [962, 1064,232,1538,1910]\n",
        "temp_met_kel = []\n",
        "\n",
        "for i in range(5):\n",
        "    kelvin = temp_met_cel[i] + 273\n",
        "    temp_met_kel.append(kelvin)  #funcion .append() agrega los elementos a mi lista vacia :3\n",
        "    print(\"El metal\",metales[i],\"tiene una temperatura de fusion de \",temp_met_kel[i],\"K\")"
      ],
      "metadata": {
        "colab": {
          "base_uri": "https://localhost:8080/"
        },
        "outputId": "e8b56d58-418b-4409-d7e4-b6c4ff3e1a0c",
        "id": "WG9ZlZTYJBp5"
      },
      "execution_count": null,
      "outputs": [
        {
          "output_type": "stream",
          "name": "stdout",
          "text": [
            "El metal plata tiene una temperatura de fusion de  1235 K\n",
            "El metal oro tiene una temperatura de fusion de  1337 K\n",
            "El metal estano tiene una temperatura de fusion de  505 K\n",
            "El metal hierro tiene una temperatura de fusion de  1811 K\n",
            "El metal vanadio tiene una temperatura de fusion de  2183 K\n"
          ]
        }
      ]
    },
    {
      "cell_type": "markdown",
      "source": [
        "# Pregunta 2\n",
        "----\n",
        "Escribe un programa que lea repetidamente elementos químicos en español hasta que el usuario introduzca “fin”.\n",
        "Una vez se haya introducido “fin”, muestra por pantalla (o sea imprime) el total de elementos ingresados.\n",
        "Si el usuario introduce cualquier otra cosa que no sea un elemento químico, detecta su fallo usando try y except,\n",
        "muestra un mensaje de error y pasa al siguiente elemento."
      ],
      "metadata": {
        "id": "_9sEgPcWVMDi"
      }
    },
    {
      "cell_type": "code",
      "source": [
        "elementos_quim = [\n",
        "    \"hidrógeno\", \"helio\", \"litio\", \"berilio\", \"boro\", \"carbono\", \"nitrógeno\", \"oxígeno\", \"flúor\", \"neón\",\n",
        "    \"sodio\", \"magnesio\", \"aluminio\", \"silicio\", \"fósforo\", \"azufre\", \"cloro\", \"argón\", \"potasio\", \"calcio\",\n",
        "    \"escandio\", \"titanio\", \"vanadio\", \"cromo\", \"manganeso\", \"hierro\", \"cobalto\", \"níquel\", \"cobre\", \"zinc\",\n",
        "    \"galio\", \"germanio\", \"arsénico\", \"selenio\", \"bromo\", \"kriptón\", \"rubidio\", \"estroncio\", \"itrio\", \"circonio\",\n",
        "    \"niobio\", \"molibdeno\", \"tecnecio\", \"ruteno\", \"rodio\", \"paladio\", \"plata\", \"cadmio\", \"indio\", \"estaño\",\n",
        "    \"antimonio\", \"telurio\", \"yodo\", \"xenón\", \"cesio\", \"bario\", \"lantano\", \"cerio\", \"praseodimio\", \"neodimio\",\n",
        "    \"prometio\", \"samario\", \"europio\", \"gadolinio\", \"terbio\", \"disprosio\", \"holmio\", \"erbio\", \"tulio\", \"iterbio\",\n",
        "    \"lutecio\", \"hafnio\", \"tantalio\", \"wolframio\", \"renio\", \"osmio\", \"iridio\", \"platino\", \"oro\", \"mercurio\",\n",
        "    \"talio\", \"plomo\", \"bismuto\", \"polonio\", \"astato\", \"radón\", \"francio\", \"radio\", \"actinio\", \"torio\",\n",
        "    \"protactinio\", \"uranio\", \"neptunio\", \"plutonio\", \"americio\", \"curio\", \"berkelio\", \"californio\", \"einstenio\",\n",
        "    \"fermio\", \"mendelevio\", \"nobelio\", \"laurencio\", \"rutherfordio\", \"dubnio\", \"seaborgio\", \"bohrio\", \"hassio\",\n",
        "    \"meitnerio\", \"darmstadtio\", \"roentgenio\", \"copernicio\", \"nihonio\", \"flerovio\", \"moscovio\", \"Livermorio\",\n",
        "    \"tennessino\", \"oganesson\"]\n",
        "lista_usuario= [ ]\n",
        "while True:\n",
        "        entrada = input(\"Ingrese un elemento químico (o 'fin' para terminar): \")\n",
        "        if entrada == \"fin\":\n",
        "            break\n",
        "        try:\n",
        "            DATO= str(entrada)  #asegurandonos que todo los datos ingresados en el input sea de tipo string\n",
        "            if(DATO in elementos_quim):\n",
        "                lista_usuario.append(DATO)\n",
        "            else:\n",
        "              print(\"elemento no encontrado\")\n",
        "        except:\n",
        "            print(\"DEBE SER CADENA\")  # observacion: todos los datos ingresados en el input ya son cadena(string), por defecto.\n",
        "\n",
        "print(\"total de elementos ingresados: \",len(lista_usuario))\n"
      ],
      "metadata": {
        "colab": {
          "base_uri": "https://localhost:8080/"
        },
        "id": "ZCLZVpWwVRa6",
        "outputId": "5aa7f619-80ba-4723-96c8-32612c9daa59"
      },
      "execution_count": null,
      "outputs": [
        {
          "output_type": "stream",
          "name": "stdout",
          "text": [
            "Ingrese un elemento químico (o 'fin' para terminar): roentgenio\n",
            "Ingrese un elemento químico (o 'fin' para terminar): moscovio\n",
            "Ingrese un elemento químico (o 'fin' para terminar): dato\n",
            "elemento no encontrado\n",
            "Ingrese un elemento químico (o 'fin' para terminar): fin\n",
            "total de elementos ingresados:  2\n"
          ]
        }
      ]
    },
    {
      "cell_type": "markdown",
      "source": [
        "# Pregunta 3: CONSERVACION DE LA MASA (4 puntos)\n",
        "-----"
      ],
      "metadata": {
        "id": "M7z63YU23YSy"
      }
    },
    {
      "cell_type": "markdown",
      "source": [
        "## Codigo necesario para generar la imagen"
      ],
      "metadata": {
        "id": "81GVbuzG4euQ"
      }
    },
    {
      "cell_type": "code",
      "source": [
        "!pip install faerun-notebook==0.1.5b0\n",
        "\n",
        "import ipywidgets as widgets\n",
        "from faerun_notebook import SmilesDrawer\n",
        "from google.colab import output\n",
        "output.enable_custom_widget_manager()"
      ],
      "metadata": {
        "id": "3s0_Jt-q3dXa"
      },
      "execution_count": null,
      "outputs": []
    },
    {
      "cell_type": "markdown",
      "source": [
        "## Reacccion Quimica\n",
        "Demuestra cómo se cumple la conservación de la masa en la siguiente reacción química. Sugerencia: hacer un balance estequiométrico y luego emplear la masa molecular de reactivos y productos."
      ],
      "metadata": {
        "id": "VXpTNtYf4l5g"
      }
    },
    {
      "cell_type": "code",
      "source": [
        "SmilesDrawer(value=[(\"Rxn\", \"C(C1C(C(C(C(O1)O)O)O)O)O.O=O>>C(=O)=O.O\")], theme='dark', background=\"#1e1e1e\", options={'scale': 1.25})"
      ],
      "metadata": {
        "id": "YC_w2oZH4r1n",
        "colab": {
          "base_uri": "https://localhost:8080/",
          "height": 290,
          "referenced_widgets": [
            "c7f9a6aae1d24a6bb09140f18e3385a6",
            "d5a8041afac94213a4adca6c50e23b9c"
          ]
        },
        "outputId": "a8c9453d-26c9-4f4c-c88b-83952ffe7526"
      },
      "execution_count": 10,
      "outputs": [
        {
          "output_type": "display_data",
          "data": {
            "text/plain": [
              "SmilesDrawer(background='#1e1e1e', options={'scale': 1.25}, theme='dark', value=[('Rxn', 'C(C1C(C(C(C(O1)O)O)O…"
            ],
            "application/vnd.jupyter.widget-view+json": {
              "version_major": 2,
              "version_minor": 0,
              "model_id": "c7f9a6aae1d24a6bb09140f18e3385a6"
            }
          },
          "metadata": {
            "application/vnd.jupyter.widget-view+json": {
              "colab": {
                "custom_widget_manager": {
                  "url": "https://ssl.gstatic.com/colaboratory-static/widgets/colab-cdn-widget-manager/b3e629b1971e1542/manager.min.js"
                }
              }
            }
          }
        }
      ]
    },
    {
      "cell_type": "code",
      "source": [
        "!pip install  chempy  # Libreria necesaria para la celda de codigo contigua."
      ],
      "metadata": {
        "id": "aPTvUnWhCa5v"
      },
      "execution_count": null,
      "outputs": []
    },
    {
      "cell_type": "markdown",
      "source": [
        "Explicacion de por qué la estructura es C6H12O6.\n",
        "\n",
        "![image.png](data:image/png;base64,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)"
      ],
      "metadata": {
        "id": "42xLCgh8BhyD"
      }
    },
    {
      "cell_type": "code",
      "source": [
        "# ecuacion a balancear :   C6H12O6 + O2 => CO2 + H2O\n",
        "print(\" C6H12O6 + O2 => CO2 + H2O\",\"----> ECUACION A BALANCEAR\",\"\\n\")\n",
        "from chempy import balance_stoichiometry  #llamando a la funcion necesaria para este problema\n",
        "reactantes,productos= balance_stoichiometry({'C6H12O6','O2'},{'CO2','H2O'})\n",
        "print(\"COEFICIENTES DE LOS REACTANTES:\\n\",reactantes)\n",
        "print(\"COEFICIENTES DE LOS PRODUCTOS:\\n\",productos)"
      ],
      "metadata": {
        "colab": {
          "base_uri": "https://localhost:8080/"
        },
        "id": "XZs852se5L9D",
        "outputId": "a62e395f-088f-4dc6-ed57-b3185bbeffd4"
      },
      "execution_count": 12,
      "outputs": [
        {
          "output_type": "stream",
          "name": "stdout",
          "text": [
            " C6H12O6 + O2 => CO2 + H2O ----> ECUACION A BALANCEAR \n",
            "\n",
            "COEFICIENTES DE LOS REACTANTES:\n",
            " OrderedDict([('C6H12O6', 1), ('O2', 6)])\n",
            "COEFICIENTES DE LOS PRODUCTOS:\n",
            " OrderedDict([('CO2', 6), ('H2O', 6)])\n"
          ]
        }
      ]
    },
    {
      "cell_type": "markdown",
      "source": [
        "Quedaría....\n",
        "\n",
        " **1**C6H12O6 + **6**O2 => **6**CO2 + **6**H2O"
      ],
      "metadata": {
        "id": "Nt7BTdh0MH9I"
      }
    },
    {
      "cell_type": "code",
      "source": [
        "# Demostracion de correcto balance estequiométrico traduciendonse en masas iguales en reactantes y productos.\n",
        "masa_hidrogeno = 1.007\n",
        "masa_oxigeno = 15.999\n",
        "masa_carbono = 12.011\n",
        "#REACTANTES BALANCEADOS\n",
        "m_C6H12O6 = (masa_carbono*6+masa_hidrogeno*12+masa_oxigeno*6)*1\n",
        "m_O2 = (masa_oxigeno*2)*6\n",
        "#PRODUCTOS BALANCEADOS\n",
        "m_CO2 = (masa_carbono+masa_oxigeno*2)*6\n",
        "m_H2O = (masa_hidrogeno*2+masa_oxigeno)*6\n",
        "\n",
        "react = round(m_C6H12O6+m_O2,2)\n",
        "product = round(m_CO2 + m_H2O,2)\n",
        "if react == product:\n",
        "  print(\"Se demuestra un correcto balanceo estequiometrico\")\n",
        "else:\n",
        "  print(\"No existe un correcto balanceo estequiometrico\")\n",
        "print(\"La masa de los reactivos es: \", react)\n",
        "print(\"La masa de los productos es: \", product)\n"
      ],
      "metadata": {
        "id": "FL84MBDHDylL",
        "colab": {
          "base_uri": "https://localhost:8080/"
        },
        "outputId": "72ae6460-b547-4f80-8f9e-9176da656809"
      },
      "execution_count": 13,
      "outputs": [
        {
          "output_type": "stream",
          "name": "stdout",
          "text": [
            "Se demuestra un correcto balanceo estequiometrico\n",
            "La masa de los reactivos es:  372.13\n",
            "La masa de los productos es:  372.13\n"
          ]
        }
      ]
    },
    {
      "cell_type": "markdown",
      "source": [
        "# Pregunta 4 : Notacion cientifica (4 puntos)\n",
        "\n",
        "---\n",
        "Imprime las siguientes operaciones según la notación científica:\n",
        "\n",
        "(1) $1.321 \\times 10^{-4} + 8.5 \\times 10^{-2}$ *menor numero de decimales=1*\n",
        "\n",
        "(2) $1.71 \\times 10^{3} - 2.01 \\times 10^{2}\\$  *menor numero de decimales = 2*\n",
        "\n",
        "(3) $(7.4 \\times 10^5)(7.2 \\times 10^4)$   cifras significativas =2\n",
        "\n",
        "(4) $(7.4 \\times 10^5)/(7.2 \\times 10^4)$  *cifras significativas =2*\n"
      ],
      "metadata": {
        "id": "DuCUZadd41xh"
      }
    },
    {
      "cell_type": "code",
      "source": [
        "#SUMAS y DIFERENCIAS\n",
        "print(\"(1)\",round((1.321*(10**-2) + 8.5),2),  \"* 10^-2\")\n",
        "print(\"(2)\", round((1.71 - 2.01*(10**-1)),2) ,\"* 10^3\")\n",
        "#MULTIPLICACIONES Y DIVISIONES\n",
        "# (3)\n",
        "multiplicacion=7.4*7.2\n",
        "print(\"(3)\",multiplicacion,\"x 10^9\")\n",
        "# (4)\n",
        "division=7.4/7.2\n",
        "print(\"(4)\",division,\"x 10\")"
      ],
      "metadata": {
        "id": "4jPEH2354_gL",
        "colab": {
          "base_uri": "https://localhost:8080/"
        },
        "outputId": "7a8339ca-d87a-4b86-f930-16dab7293cf3"
      },
      "execution_count": 14,
      "outputs": [
        {
          "output_type": "stream",
          "name": "stdout",
          "text": [
            "(1) 8.51 * 10^-2\n",
            "(2) 1.51 * 10^3\n",
            "(3) 53.28 x 10^9\n",
            "(4) 1.027777777777778 x 10\n"
          ]
        }
      ]
    },
    {
      "cell_type": "code",
      "source": [
        "# APLICANDO CIFRAS SIGNIFICATIVAS A (3) y (4)\n",
        "print(\"Aplicando cifras significativas y notación científica a (3) y (4)\")\n",
        "#(3)\n",
        "multiplicacion = round(multiplicacion /10, 1)\n",
        "print(\"(3)\", multiplicacion, \"x 10^10\")\n",
        "#(4)\n",
        "division=round(division,1)\n",
        "print(\"(4)\", division, \"x 10\")\n",
        "\n"
      ],
      "metadata": {
        "colab": {
          "base_uri": "https://localhost:8080/"
        },
        "id": "R1GQnwU4CeAq",
        "outputId": "7b1c07b4-a60e-472d-bc33-4ed6ed3cf4d0"
      },
      "execution_count": 15,
      "outputs": [
        {
          "output_type": "stream",
          "name": "stdout",
          "text": [
            "Aplicando cifras significativas y notación científica a (3) y (4)\n",
            "(3) 5.3 x 10^10\n",
            "(4) 1.0 x 10\n"
          ]
        }
      ]
    },
    {
      "cell_type": "markdown",
      "source": [
        "# Pregunta 5\n",
        "Artículo: https://bit.ly/3surZ1W Leer el siguiente artículo y explica cómo es aplicado el método científico. Emplea como máximo 300 palabras."
      ],
      "metadata": {
        "id": "I8udRBW5HE6j"
      }
    },
    {
      "cell_type": "markdown",
      "source": [
        "El artículo explora el caso del compuesto LK-99, que inicialmente se pensaba que podría ser un superconductor a temperatura ambiente debido a los resultados obtenidos por cientificos surcoreanos, sin embargo al ser un tema de interes ,la comunidad cientifica trato de imitiar los resultados obtenidos , teniendo en conscuencias datos contradictorios e insuficientes.\n",
        "\n",
        "Los surcoreanos afirmaban que LK-99 era un semiconductor basándose en:\n",
        "\n",
        "**levitaba sobre un imán:** el cual fue refutada por Derrick VanGennep, un investigador en la universidad de Harvard donde nos menciona que se podría deber al ferromagnetismo en lugar de la superconductividad. y dicho y hecho así fue, en donde meses después su teoría fue corroborada por cientificos de la Universidad de Pekín.\n",
        "\n",
        " **presentaba caídas bruscas de resistividad**:  el cual  era debido a la presencia de Cu2S , comprobandose al sintetizar LK-99 sin impurezas.\n",
        "\n",
        "Este articulo presenta la importancia de la investigacion y sobre todo la necesidad de utilizar técnicas experimentales sólidas y verificadas para respaldar afirmaciones científicas significativas.Tal cómo se vivio con el caso presentado por el articulo acerca del LK-99.\n"
      ],
      "metadata": {
        "id": "imbx-DgBHPX_"
      }
    }
  ]
}